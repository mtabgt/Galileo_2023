{
 "cells": [
  {
   "cell_type": "markdown",
   "id": "cb44a08f",
   "metadata": {},
   "source": [
    "## Mario Eduardo Tabarini Andretta - 22000349\n",
    "\n",
    "### 1. Haga un programa en Python que reciba de parámetro un número de segundos y que despliegue en pantalla, las horas, minutos y segundos que representan."
   ]
  },
  {
   "cell_type": "code",
   "execution_count": 42,
   "id": "6a90df6d",
   "metadata": {},
   "outputs": [
    {
     "name": "stdout",
     "output_type": "stream",
     "text": [
      "Ingrese el tiempo en segundos:5871\n",
      "Datos: 1 horas, 37 minutos, 51 segundos\n"
     ]
    }
   ],
   "source": [
    "entradaUsuario=int(input(\"Ingrese el tiempo en segundos:\"))\n",
    "horas=entradaUsuario//3600\n",
    "minutos=(entradaUsuario%3600)//60\n",
    "segundos=(entradaUsuario%3600)%60\n",
    "\n",
    "print(f\"Datos: {horas} horas, {minutos} minutos, {segundos} segundos\")\n",
    "\n"
   ]
  },
  {
   "cell_type": "markdown",
   "id": "184b7bde",
   "metadata": {},
   "source": [
    "### 2. Haga una función en Python que dado un número entre 1 y 20 y un caracter cualquiera despliegue cuatro patrones triangulares."
   ]
  },
  {
   "cell_type": "code",
   "execution_count": 57,
   "id": "d5be4f08",
   "metadata": {},
   "outputs": [
    {
     "name": "stdout",
     "output_type": "stream",
     "text": [
      "Ingrese un número de 1 a 20:5\n",
      "Ingrese un caracter:?\n",
      "?    ?????    ?    ?????\n",
      "??    ????    ??    ????\n",
      "???    ???    ???    ???\n",
      "????    ??    ????    ??\n",
      "?????    ?    ?????    ?\n"
     ]
    }
   ],
   "source": [
    "entradaNumero=int(input(\"Ingrese un número de 1 a 20:\"))\n",
    "if(20>=entradaNumero>=0):\n",
    "    entradaCaracter=input(\"Ingrese un caracter:\")\n",
    "    for x in range(1,entradaNumero+1, 1):\n",
    "        print(entradaCaracter*x+\"    \"+entradaCaracter*(entradaNumero-x+1)+\"    \"+entradaCaracter*x+\"    \"+entradaCaracter*(entradaNumero-x+1))\n",
    "else:\n",
    "    print(\"Únicamente se permiten números entre 1 y 20. Intente de nuevo.\")"
   ]
  },
  {
   "cell_type": "markdown",
   "id": "029571fd",
   "metadata": {},
   "source": [
    "### 3. Haga un programa en Python que la fecha de nacimiento de una persona (puede ingresar por separado cada valor, es decir pedir primero día, luego mes y luego año), despliegue la edad de la persona en años, meses y días. Su resultado puede ser aproximado."
   ]
  },
  {
   "cell_type": "code",
   "execution_count": 77,
   "id": "0cfc305c",
   "metadata": {},
   "outputs": [
    {
     "name": "stdout",
     "output_type": "stream",
     "text": [
      "Ingrese su día de nacimiento:2\n",
      "Ingrese su mes de nacimiento:1\n",
      "Ingrese su año de nacimiento:1999\n",
      "8819\n",
      "Datos: 24 años, 1 meses, 29 dias\n"
     ]
    }
   ],
   "source": [
    "entradaDia=input(\"Ingrese su día de nacimiento:\")\n",
    "entradaMes=input(\"Ingrese su mes de nacimiento:\")\n",
    "entradaAño=input(\"Ingrese su año de nacimiento:\")\n",
    "\n",
    "import pandas as pd\n",
    "from datetime import datetime, timedelta\n",
    "\n",
    "fechaNacimiento = pd.to_datetime( entradaDia+\"/\"+entradaMes+\"/\"+entradaAño,format= \"%d/%m/%Y\")\n",
    "fechaHoy = datetime.today()\n",
    "diasTotales=(fechaHoy.year - fechaNacimiento.year) * 365 + (fechaHoy.month - fechaNacimiento.month)*30+(fechaHoy.day - fechaNacimiento.day)\n",
    "print(diasTotales)\n",
    "\n",
    "años=diasTotales//365\n",
    "meses=(diasTotales%365)//30\n",
    "dias=(diasTotales%365)%30\n",
    "\n",
    "print(f\"Datos: {años} años, {meses} meses, {dias} dias\")\n"
   ]
  },
  {
   "cell_type": "markdown",
   "id": "bd72ad8f",
   "metadata": {},
   "source": [
    "### 4. Escriba una función en Python que dada una tupla de elementos (números o letras) esta se convierta a un string. Tomar nota del siguiente ejemplo: Si la entrada fuera: (10, 20, 40, 5, 70), la salida debería ser: 102040570"
   ]
  },
  {
   "cell_type": "code",
   "execution_count": 3,
   "id": "cf2836ed",
   "metadata": {},
   "outputs": [
    {
     "name": "stdout",
     "output_type": "stream",
     "text": [
      "102040570\n"
     ]
    }
   ],
   "source": [
    "tupla = (10,20,405,70)\n",
    "cadena = ''\n",
    "\n",
    "for elemento in tupla:\n",
    "    cadena = str(cadena) + str(elemento)\n",
    "\n",
    "print(cadena)"
   ]
  },
  {
   "cell_type": "markdown",
   "id": "2b394913",
   "metadata": {},
   "source": [
    "### 5. Cree un programa en Python que dada una lista de tuplas, elimine las tuplas que están vacías."
   ]
  },
  {
   "cell_type": "code",
   "execution_count": 97,
   "id": "a69f0894",
   "metadata": {},
   "outputs": [
    {
     "name": "stdout",
     "output_type": "stream",
     "text": [
      "['X', ('a', 'b'), ('a', 'b', 'c'), 'd']\n"
     ]
    }
   ],
   "source": [
    "tuplas = [(), (), (), ('X'), (), ('a', 'b'), (), ('a', 'b', 'c'), (), (), (), ('d'), ()]\n",
    "\n",
    "while elementos==() in tuplas:\n",
    "        tuplas.remove(elementos)\n",
    "print(tuplas)\n",
    "    \n",
    "    \n",
    "\n"
   ]
  },
  {
   "cell_type": "markdown",
   "id": "82f0c658",
   "metadata": {},
   "source": [
    "### 6. Cree una función en Python que dada una tupla de tuplas con números, produzca una tupla con el promedio de cada tupla individual. Tomar nota del siguiente ejemplo:"
   ]
  },
  {
   "cell_type": "code",
   "execution_count": 2,
   "id": "498cc1dc",
   "metadata": {},
   "outputs": [
    {
     "name": "stdout",
     "output_type": "stream",
     "text": [
      "[16.25, 185.0, 32.75]\n"
     ]
    }
   ],
   "source": [
    "tuplasNumeros = [(10,20,23,12), (645,31,44,20), (33,88,1,9)]\n",
    "promedio=0\n",
    "suma=0\n",
    "cuenta=0\n",
    "tuplaPromedios=list()\n",
    "\n",
    "for subtupla in tuplasNumeros:\n",
    "    for numero in subtupla:\n",
    "        suma+=numero\n",
    "        cuenta+=1\n",
    "    promedio=suma/cuenta\n",
    "    tuplaPromedios.append(promedio)\n",
    "    promedio=0\n",
    "    suma=0\n",
    "    cuenta=0\n",
    "print(tuplaPromedios)"
   ]
  },
  {
   "cell_type": "markdown",
   "id": "9fdf24f9",
   "metadata": {},
   "source": [
    "### 7. Escribir un programa que gestione las facturas pendientes de cobro de una empresa. Las facturas se almacenarán en un diccionario donde la llave de cada factura será el número de factura (debe utilizar un número de 4 dígitos) y el valor el coste de la factura. El programa debe preguntar al usuario si quiere añadir una nueva factura, pagar una existente o terminar. Si desea añadir una nueva factura se preguntará por el número de factura y su coste y se añadirá al diccionario, para confirmar que la factura se ingreso correctamente el programa debe desplegar el diccionario completo. Si se desea pagar una factura se preguntará por el número de factura y se eliminará del diccionario. Después de cada operación el programa debe mostrar en pantalla la cantidad cobrada hasta el momento y la cantidad pendiente de cobro. Puede utilizar otras estructuras de datos como apoyo si lo considera necesario.\n"
   ]
  },
  {
   "cell_type": "code",
   "execution_count": 4,
   "id": "55b7b4fd",
   "metadata": {},
   "outputs": [
    {
     "name": "stdout",
     "output_type": "stream",
     "text": [
      "*Escriba en el cuadro el número que desee:* \n",
      "1. Para añadir una nueva factura, \n",
      "2. Para pagar una factura existente, \n",
      "3. Para Terminar\n",
      "1\n",
      "Escriba el número de factura de cuatro dígitos.1200\n",
      "Escriba el monto de la factura.2322.25\n",
      "{'1200': 2322.25}\n",
      "El monto pendiente de pago en facturas es de Q.2322.25\n",
      "*Escriba en el cuadro el número que desee:* \n",
      "1. Para añadir una nueva factura, \n",
      "2. Para pagar una factura existente, \n",
      "3. Para Terminar\n",
      "1\n",
      "Escriba el número de factura de cuatro dígitos.0000\n",
      "Escriba el monto de la factura.900\n",
      "{'1200': 2322.25, '0000': 900.0}\n",
      "El monto pendiente de pago en facturas es de Q.3222.25\n",
      "*Escriba en el cuadro el número que desee:* \n",
      "1. Para añadir una nueva factura, \n",
      "2. Para pagar una factura existente, \n",
      "3. Para Terminar\n",
      "2\n",
      "{'1200': 2322.25, '0000': 900.0}\n",
      "Escriba el número de la factura que desea pagar.90\n",
      "La factura ingresada no existe. Intente de nuevo.\n",
      "*Escriba en el cuadro el número que desee:* \n",
      "1. Para añadir una nueva factura, \n",
      "2. Para pagar una factura existente, \n",
      "3. Para Terminar\n",
      "2\n",
      "{'1200': 2322.25, '0000': 900.0}\n",
      "Escriba el número de la factura que desea pagar.1200\n",
      "Factura pagada correctamente.\n",
      "{'0000': 900.0}\n",
      "El monto pendiente de pago en facturas es de Q.3222.25\n",
      "*Escriba en el cuadro el número que desee:* \n",
      "1. Para añadir una nueva factura, \n",
      "2. Para pagar una factura existente, \n",
      "3. Para Terminar\n",
      "3\n",
      "Sistema se ha cerrado exitosamente.\n"
     ]
    }
   ],
   "source": [
    "diccionarioFacturas={}\n",
    "entradaSeleccion=''\n",
    "while entradaSeleccion!='3':\n",
    "    entradaSeleccion=input(\"*Escriba en el cuadro el número que desee:* \\n1. Para añadir una nueva factura, \\n2. Para pagar una factura existente, \\n3. Para Terminar\\n\")\n",
    "\n",
    "    if entradaSeleccion=='1':\n",
    "        entradaFactura=input(\"Escriba el número de factura de cuatro dígitos.\")\n",
    "        if 5>len(entradaFactura):\n",
    "            entradaMonto=float(input(\"Escriba el monto de la factura.\"))\n",
    "            diccionarioFacturas.update({entradaFactura:entradaMonto})\n",
    "            print(diccionarioFacturas)\n",
    "            total=sum(diccionarioFacturas.values())\n",
    "            print(f\"El monto pendiente de pago en facturas es de Q.{total}\")\n",
    "\n",
    "        else:\n",
    "            print(\"La factura ingresada debe ser de cuatro dígitos. Intente de nuevo. \")\n",
    "    elif entradaSeleccion=='2':\n",
    "        if 5>len(entradaFactura):\n",
    "            print(diccionarioFacturas)\n",
    "            entradaMonto=input(\"Escriba el número de la factura que desea pagar.\")\n",
    "            if(entradaMonto in diccionarioFacturas):  \n",
    "                del diccionarioFacturas[entradaMonto]\n",
    "                print(\"Factura pagada correctamente.\")        \n",
    "                print(diccionarioFacturas)\n",
    "                print(f\"El monto pendiente de pago en facturas es de Q.{total}\")\n",
    "            else:\n",
    "                print(\"La factura ingresada no existe. Intente de nuevo.\")\n",
    "        else:\n",
    "            print(\"La factura ingresada debe ser de cuatro dígitos. Intente de nuevo. \")\n",
    "    elif entradaSeleccion=='3':\n",
    "        print(\"Sistema se ha cerrado exitosamente.\")\n",
    "    else:\n",
    "        print('Debe escribir únicamente el número que desee (1, 2 o 3). Intente de nuevo.')\n",
    "\n"
   ]
  },
  {
   "cell_type": "markdown",
   "id": "dcc43243",
   "metadata": {},
   "source": [
    "### 8. Haga una función en Python, que cree un set con todas las cartas de una baraja de Pocker utilizando el siguiente formato: Tipo-Numero. Utilice las letras T para tréboles, C para corazones, P para picas y E para espadas. Para los números utilice la numeración del 1 al 13. Por ejemplo E13 - sería Rey de Espadas, P01 sería As de Picas, T05 sería cinco de Tréboles.\n",
    "\n",
    "### Posteriormente cree una función que dado el conjunto anterior cree dos sets nuevos de cartas, cada conjunto debe tener una cantidad variable de elementos, puede utilizar números aleatorios enteros para definir la longitud de los conjuntos. \n",
    "\n",
    "### Adicionalmente, deberá calcular la probabilidad de la intersección de ambos conjuntos y demuestre si son eventos independientes con la regla del producto. \n",
    "\n",
    "### Para concluir, calcule probabilidad de la unión de ambos conjuntos y demuestre que se cumple la regla de la adición."
   ]
  },
  {
   "cell_type": "code",
   "execution_count": 11,
   "id": "33098645",
   "metadata": {},
   "outputs": [
    {
     "name": "stdout",
     "output_type": "stream",
     "text": [
      "['T1', 'T2', 'T3', 'T4', 'T5', 'T6', 'T7', 'T8', 'T9', 'T10', 'T11', 'T12', 'T13', 'C1', 'C2', 'C3', 'C4', 'C5', 'C6', 'C7', 'C8', 'C9', 'C10', 'C11', 'C12', 'C13', 'P1', 'P2', 'P3', 'P4', 'P5', 'P6', 'P7', 'P8', 'P9', 'P10', 'P11', 'P12', 'P13', 'E1', 'E2', 'E3', 'E4', 'E5', 'E6', 'E7', 'E8', 'E9', 'E10', 'E11', 'E12', 'E13']\n"
     ]
    }
   ],
   "source": [
    "#Creando baraja\n",
    "\n",
    "baraja=[]\n",
    "for t in [\"T\", \"C\", \"P\", \"E\"]:\n",
    "    for i in range(1,14):\n",
    "        baraja.append(t+str(i))\n",
    "print(baraja)"
   ]
  },
  {
   "cell_type": "code",
   "execution_count": 13,
   "id": "e809c9b0",
   "metadata": {},
   "outputs": [
    {
     "name": "stdout",
     "output_type": "stream",
     "text": [
      "['T7', 'C11', 'T11', 'T4', 'E5', 'E2', 'E11']\n",
      "['T7', 'T5', 'P10', 'C8', 'P9', 'E12', 'C3', 'P4', 'T2']\n"
     ]
    }
   ],
   "source": [
    "#Creando dos subconjuntos de la baraja existente\n",
    "\n",
    "import random\n",
    "\n",
    "primerConjunto=random.sample(baraja, random.randint(1,13))\n",
    "segundoConjunto=random.sample(baraja, random.randint(1,13))\n",
    "\n",
    "print(primerConjunto)\n",
    "print(segundoConjunto)"
   ]
  },
  {
   "cell_type": "code",
   "execution_count": 20,
   "id": "62a6b288",
   "metadata": {},
   "outputs": [
    {
     "name": "stdout",
     "output_type": "stream",
     "text": [
      "La probabilidad de intersseción de ambos sets es de 0.023298816568047335\n",
      "Son independientes\n",
      "La probabilidad de unión de ambos sets es de 0.2843934911242604\n"
     ]
    }
   ],
   "source": [
    "#Determinando probabilidad de intersección de ambos subconjuntos\n",
    "\n",
    "probPrimerConjunto=len(primerConjunto)/len(baraja)\n",
    "probSegundoConjunto=len(segundoConjunto)/len(baraja)\n",
    "\n",
    "interseccion=probPrimerConjunto*probSegundoConjunto\n",
    "print(f\"La probabilidad de intersseción de ambos sets es de {interseccion}\")\n",
    "\n",
    "\n",
    "# Demostrando que eventos son independientes mediante regla de producto\n",
    "\n",
    "probPrimeroDadoSegundo=interseccion/probSegundoConjunto\n",
    "\n",
    "\n",
    "if(probPrimerConjunto==probPrimeroDadoSegundo):\n",
    "    print(\"Son independientes\")\n",
    "else:\n",
    "    print(\"No son independientes\")\n",
    "    \n",
    "    \n",
    "# Calculando probabilidad de unión de ambos conjuntos\n",
    "\n",
    "probUnion=probPrimerConjunto+probSegundoConjunto-interseccion\n",
    "print(f\"La probabilidad de unión de ambos sets es de {probUnion}\")\n"
   ]
  },
  {
   "cell_type": "code",
   "execution_count": null,
   "id": "b0b30824",
   "metadata": {},
   "outputs": [],
   "source": []
  }
 ],
 "metadata": {
  "kernelspec": {
   "display_name": "Python 3 (ipykernel)",
   "language": "python",
   "name": "python3"
  },
  "language_info": {
   "codemirror_mode": {
    "name": "ipython",
    "version": 3
   },
   "file_extension": ".py",
   "mimetype": "text/x-python",
   "name": "python",
   "nbconvert_exporter": "python",
   "pygments_lexer": "ipython3",
   "version": "3.9.13"
  }
 },
 "nbformat": 4,
 "nbformat_minor": 5
}
